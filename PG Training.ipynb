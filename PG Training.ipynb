{
 "cells": [
  {
   "cell_type": "code",
   "execution_count": 69,
   "id": "2c6eacbf-6b90-4e26-a593-35e262209c91",
   "metadata": {
    "id": "2c6eacbf-6b90-4e26-a593-35e262209c91",
    "tags": []
   },
   "outputs": [],
   "source": [
    "import torch\n",
    "import torch.nn as nn\n",
    "import torch.optim as optim\n",
    "import torch.utils.data as data\n",
    "import torch.nn.functional as F\n",
    "import numpy as np\n",
    "import torch_geometric.utils as utils\n",
    "\n",
    "from tqdm.notebook import tqdm\n",
    "from torch.nn import Linear, ReLU\n",
    "from torch.nn import CrossEntropyLoss\n",
    "from torch_geometric.nn.conv import APPNP\n",
    "from torch_geometric.datasets import Planetoid\n",
    "from torch_geometric.loader import DataLoader\n",
    "from torch_geometric.nn import Sequential, GCNConv, MessagePassing\n",
    "from torch_geometric.utils import add_self_loops, degree\n",
    "from torch_geometric.nn import GCNConv, global_mean_pool"
   ]
  },
  {
   "cell_type": "code",
   "execution_count": 79,
   "id": "e45937d2-eadc-4400-9a20-285b5a3ec416",
   "metadata": {
    "colab": {
     "base_uri": "https://localhost:8080/"
    },
    "id": "e45937d2-eadc-4400-9a20-285b5a3ec416",
    "outputId": "d278495f-01a6-478a-bef0-b3c33963ad8d",
    "tags": []
   },
   "outputs": [
    {
     "name": "stdout",
     "output_type": "stream",
     "text": [
      "Data(x=[3327, 3703], edge_index=[2, 9104], y=[3327], train_mask=[3327], val_mask=[3327], test_mask=[3327])\n"
     ]
    }
   ],
   "source": [
    "dataset = Planetoid(root='planetoid', name='CITESEER')\n",
    "train_loader =  DataLoader(dataset, batch_size =4, shuffle = True)\n",
    "data = dataset[0]\n",
    "print(data)"
   ]
  },
  {
   "cell_type": "code",
   "execution_count": 73,
   "id": "984774a8-0da0-4f51-847e-4bbde11da344",
   "metadata": {
    "id": "984774a8-0da0-4f51-847e-4bbde11da344",
    "tags": []
   },
   "outputs": [],
   "source": [
    "class GNN(nn.Module):\n",
    "    def __init__(self, input_dim, num_classes):#input_dim have to be nfeatures\n",
    "        super(GNN, self).__init__()\n",
    "        self.conv1 = GCNConv(input_dim, 64)\n",
    "        self.conv2 = GCNConv(64, 64)\n",
    "        self.conv3 = GCNConv(64, num_classes)\n",
    "        self.APPNP = APPNP(num_classes, num_classes)\n",
    "    \n",
    "        \n",
    "    def forward(self, x, edge_index):\n",
    "        x = self.conv1(x, edge_index).relu()\n",
    "        x = self.conv2(x, edge_index).relu()\n",
    "        x = self.conv3(x, edge_index)\n",
    "        edge_weight = x\n",
    "        x = self.APPNP(x, edge_index)\n",
    "        \n",
    "        return x "
   ]
  },
  {
   "cell_type": "code",
   "execution_count": 74,
   "id": "fdfbd791-f3ec-4a40-bc67-1282322f8f1b",
   "metadata": {
    "id": "fdfbd791-f3ec-4a40-bc67-1282322f8f1b",
    "tags": []
   },
   "outputs": [],
   "source": [
    "input_dim = data['x'].size()[1]\n",
    "num_classes = len(np.unique(np.array(data['y'])))\n",
    "\n",
    "model = GNN(input_dim = input_dim, num_classes=num_classes)"
   ]
  },
  {
   "cell_type": "code",
   "execution_count": 75,
   "id": "a9016166-2ef2-4ec5-b5cf-12e57c794f06",
   "metadata": {
    "colab": {
     "base_uri": "https://localhost:8080/"
    },
    "id": "a9016166-2ef2-4ec5-b5cf-12e57c794f06",
    "outputId": "fde0efda-9322-4f6c-ae38-576d4e863658",
    "tags": []
   },
   "outputs": [
    {
     "data": {
      "application/vnd.jupyter.widget-view+json": {
       "model_id": "7b4f9af677a442abbbede6d45898121e",
       "version_major": 2,
       "version_minor": 0
      },
      "text/plain": [
       "  0%|          | 0/100 [00:00<?, ?it/s]"
      ]
     },
     "metadata": {},
     "output_type": "display_data"
    }
   ],
   "source": [
    "NUM_EPOCS = 100\n",
    "LEARNING_RATE = 0.001\n",
    "\n",
    "optimizer = optim.Adam(model.parameters(), lr=LEARNING_RATE)\n",
    "criterion = nn.CrossEntropyLoss()\n",
    "\n",
    "epoch_stats = {'loss': [], 'accuracy': []}\n",
    "\n",
    "for epoch in tqdm(range(NUM_EPOCS)):\n",
    "    #Forward run the modell one step\n",
    "    model.train()\n",
    "    running_loss = 0\n",
    "    running_corrects = 0\n",
    "    \n",
    "    for data_batch in train_loader:\n",
    "        idx = data_batch.edge_index\n",
    "        labels = data_batch.y\n",
    "        optimizer.zero_grad()\n",
    "        \n",
    "        model_preds = model(data_batch.x, idx)\n",
    "        preds = torch.argmax(model_preds, dim=1)\n",
    "        loss = criterion(model_preds, data_batch.y)\n",
    "        loss.backward()\n",
    "        optimizer.step()\n",
    "\n",
    "        # Collect statistics\n",
    "        running_loss += loss * idx.size(0)\n",
    "        running_corrects += torch.sum(preds == labels)\n",
    "        #print(preds)\n",
    "        \n",
    "    # Collect statistics\n",
    "    epoch_stats['loss'].append(running_loss / len(train_loader.dataset))\n",
    "    epoch_stats['accuracy'].append(running_corrects / (len(labels)))\n"
   ]
  },
  {
   "cell_type": "code",
   "execution_count": 78,
   "id": "ff664720",
   "metadata": {},
   "outputs": [
    {
     "data": {
      "image/png": "[encoded data removed]",
      "text/plain": [
       "<Figure size 640x480 with 2 Axes>"
      ]
     },
     "metadata": {},
     "output_type": "display_data"
    }
   ],
   "source": [
    "import matplotlib.pyplot as plt\n",
    "\n",
    "with torch.no_grad():\n",
    "    fig, axs = plt.subplots(2, 1)\n",
    "    \n",
    "    axs[0].plot(epoch_stats['loss'], label = \"Loss\")\n",
    "    axs[0].set_xlabel('Loss')\n",
    "    axs[1].plot(epoch_stats['accuracy'], label = \"Accuracy\")\n",
    "    axs[1].axhline(y = 1.0, color = 'orange', linestyle = 'dashed')\n",
    "    axs[1].set_xlabel('Accuracy')\n",
    "    plt.tight_layout()\n",
    "    plt.show()\n",
    "    "
   ]
  },
  {
   "cell_type": "code",
   "execution_count": null,
   "id": "5d236026",
   "metadata": {},
   "outputs": [],
   "source": []
  }
 ],
 "metadata": {
  "colab": {
   "provenance": []
  },
  "kernelspec": {
   "display_name": "Python 3 (ipykernel)",
   "language": "python",
   "name": "python3"
  },
  "language_info": {
   "codemirror_mode": {
    "name": "ipython",
    "version": 3
   },
   "file_extension": ".py",
   "mimetype": "text/x-python",
   "name": "python",
   "nbconvert_exporter": "python",
   "pygments_lexer": "ipython3",
   "version": "3.10.10"
  }
 },
 "nbformat": 4,
 "nbformat_minor": 5
}
